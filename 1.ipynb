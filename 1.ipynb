{
 "cells": [
  {
   "cell_type": "code",
   "execution_count": 1,
   "metadata": {},
   "outputs": [],
   "source": [
    "sample = \"Hi My name is Teddy\""
   ]
  },
  {
   "cell_type": "code",
   "execution_count": 5,
   "metadata": {},
   "outputs": [
    {
     "data": {
      "text/plain": [
       "True"
      ]
     },
     "execution_count": 5,
     "metadata": {},
     "output_type": "execute_result"
    }
   ],
   "source": [
    "\"Teddy\" in sample"
   ]
  },
  {
   "cell_type": "code",
   "execution_count": 11,
   "metadata": {},
   "outputs": [],
   "source": [
    "from langchain_openai import ChatOpenAI\n",
    "from langchain_core.output_parsers import StrOutputParser\n",
    "from langchain_core.prompts import PromptTemplate\n",
    "\n",
    "\n",
    "prompt = PromptTemplate.from_template(\n",
    "    \"\"\"당신은 사용자의 의도를 파악하고, 구분(classification) 하는 AI 입니다.\n",
    "당신의 임무는 주어진 사용자의 입력에 따라 다음 3개 중 하나로 분류하는 것입니다.\n",
    "\n",
    "#카테고리\n",
    "- 요약\n",
    "- 블로그\n",
    "- 회화\n",
    "\n",
    "#사용자 입력\n",
    "{question}\n",
    "\n",
    "DO NOT narrate. 답변은 카테고리 이름만 출력하세요.\n",
    "\"\"\"\n",
    ")\n",
    "\n",
    "chain = prompt | ChatOpenAI(model_name=\"gpt-4o\") | StrOutputParser()\n",
    "\n",
    "chain.invoke({\"question\": \"나 이번에 블로그글을 한 번 써보려고해\"})"
   ]
  },
  {
   "cell_type": "code",
   "execution_count": 12,
   "metadata": {},
   "outputs": [
    {
     "data": {
      "text/plain": [
       "'블로그'"
      ]
     },
     "execution_count": 12,
     "metadata": {},
     "output_type": "execute_result"
    }
   ],
   "source": []
  },
  {
   "cell_type": "code",
   "execution_count": null,
   "metadata": {},
   "outputs": [],
   "source": []
  },
  {
   "cell_type": "code",
   "execution_count": null,
   "metadata": {},
   "outputs": [],
   "source": []
  },
  {
   "cell_type": "code",
   "execution_count": null,
   "metadata": {},
   "outputs": [],
   "source": []
  },
  {
   "cell_type": "code",
   "execution_count": null,
   "metadata": {},
   "outputs": [],
   "source": []
  },
  {
   "cell_type": "code",
   "execution_count": null,
   "metadata": {},
   "outputs": [],
   "source": []
  },
  {
   "cell_type": "code",
   "execution_count": null,
   "metadata": {},
   "outputs": [],
   "source": []
  },
  {
   "cell_type": "code",
   "execution_count": null,
   "metadata": {},
   "outputs": [],
   "source": []
  },
  {
   "cell_type": "code",
   "execution_count": 13,
   "metadata": {},
   "outputs": [],
   "source": [
    "from langchain_core.prompts import PromptTemplate\n",
    "from langchain_core.output_parsers import StrOutputParser\n",
    "from langchain_openai import ChatOpenAI\n",
    "from abc import ABC, abstractmethod"
   ]
  },
  {
   "cell_type": "code",
   "execution_count": 14,
   "metadata": {},
   "outputs": [],
   "source": [
    "class BaseConversationChain(ABC):\n",
    "\n",
    "    @abstractmethod\n",
    "    def create_prompt(self):\n",
    "        pass\n",
    "\n",
    "    def create_model(self):\n",
    "        return ChatOpenAI(model_name=\"gpt-4o-mini\")\n",
    "\n",
    "    def create_outputparser(self):\n",
    "        return StrOutputParser()\n",
    "\n",
    "    def create(self):\n",
    "        prompt = self.create_prompt()\n",
    "        model = self.create_model()\n",
    "        output_parser = self.create_outputparser()\n",
    "        chain = prompt | model | output_parser\n",
    "        return chain"
   ]
  },
  {
   "cell_type": "code",
   "execution_count": 15,
   "metadata": {},
   "outputs": [],
   "source": [
    "class EnglishConversationChain(BaseConversationChain):\n",
    "    def create_prompt(self):\n",
    "        template = \"\"\"당신은 영어를 가르치는 10년차 영어 선생님입니다. 주어진 상황에 맞는 영어 회화를 작성해 주세요.\n",
    "        양식은 Example을 참고하여 작성해 주세요.\n",
    "\n",
    "        #상황:\n",
    "        {question}\n",
    "\n",
    "        #Example:\n",
    "        **영어 회화**\n",
    "        - Customer: Hi there! I would like to order a pizza, please.\n",
    "        - Staff: Sure! What size would you like?\n",
    "        - Customer: I’ll have a large pizza, please.\n",
    "        - Staff: Great! What toppings do you want?\n",
    "        ...\n",
    "\n",
    "        **한글 해석**\n",
    "        - 고객: 안녕하세요! 피자를 주문하고 싶어요.\n",
    "        - 직원: 물론입니다! 어떤 사이즈로 주문하시겠어요?\n",
    "        - 고객: 대형 피자로 주세요.\n",
    "        - 직원: 좋습니다! 어떤 토핑을 원하시나요?\n",
    "        ...\n",
    "        \"\"\"\n",
    "\n",
    "        # 프롬프트 템플릿을 이용하여 프롬프트를 생성합니다.\n",
    "        prompt = PromptTemplate.from_template(template)\n",
    "        return prompt"
   ]
  },
  {
   "cell_type": "code",
   "execution_count": 17,
   "metadata": {},
   "outputs": [
    {
     "data": {
      "text/plain": [
       "True"
      ]
     },
     "execution_count": 17,
     "metadata": {},
     "output_type": "execute_result"
    }
   ],
   "source": [
    "from dotenv import load_dotenv\n",
    "\n",
    "load_dotenv()"
   ]
  },
  {
   "cell_type": "code",
   "execution_count": 18,
   "metadata": {},
   "outputs": [],
   "source": [
    "english_chain = EnglishConversationChain().create()"
   ]
  },
  {
   "cell_type": "code",
   "execution_count": 20,
   "metadata": {},
   "outputs": [
    {
     "name": "stdout",
     "output_type": "stream",
     "text": [
      "**영어 회화**\n",
      "- Customer: Hi! I'd like to order a pizza, please.\n",
      "- Staff: Of course! What size would you like?\n",
      "- Customer: I’ll go with a medium pizza, please.\n",
      "- Staff: Great choice! What toppings would you like on it?\n",
      "- Customer: I’d like pepperoni and mushrooms, please.\n",
      "- Staff: Would you like extra cheese with that?\n",
      "- Customer: Yes, please! And can I get it delivered to my address?\n",
      "- Staff: Absolutely! Can I have your address, please?\n",
      "- Customer: Sure, it’s 123 Maple Street.\n",
      "- Staff: Thank you! Your total is $20. It will be delivered in about 30 minutes.\n",
      "- Customer: Perfect! Thanks so much!\n",
      "\n",
      "**한글 해석**\n",
      "- 고객: 안녕하세요! 피자를 주문하고 싶어요.\n",
      "- 직원: 물론입니다! 어떤 사이즈로 주문하시겠어요?\n",
      "- 고객: 중형 피자로 주세요.\n",
      "- 직원: 좋은 선택입니다! 어떤 토핑을 원하시나요?\n",
      "- 고객: 페퍼로니와 버섯으로 주세요.\n",
      "- 직원: 추가 치즈는 필요하신가요?\n",
      "- 고객: 네, 부탁합니다! 그리고 제 주소로 배달해 주실 수 있나요?\n",
      "- 직원: 물론입니다! 주소를 말씀해 주시겠어요?\n",
      "- 고객: 네, 123 메이플 스트리트입니다.\n",
      "- 직원: 감사합니다! 총 금액은 20달러입니다. 약 30분 후에 배달됩니다.\n",
      "- 고객: 완벽해요! 정말 감사합니다!\n"
     ]
    }
   ],
   "source": [
    "print(english_chain.invoke({\"question\": \"피자집에서 피자를 주문\"}))"
   ]
  },
  {
   "cell_type": "code",
   "execution_count": null,
   "metadata": {},
   "outputs": [],
   "source": []
  },
  {
   "cell_type": "code",
   "execution_count": null,
   "metadata": {},
   "outputs": [],
   "source": []
  },
  {
   "cell_type": "code",
   "execution_count": null,
   "metadata": {},
   "outputs": [],
   "source": []
  },
  {
   "cell_type": "code",
   "execution_count": null,
   "metadata": {},
   "outputs": [],
   "source": []
  },
  {
   "cell_type": "code",
   "execution_count": null,
   "metadata": {},
   "outputs": [],
   "source": [
    "sample(temperature=0.5,aaa model_name='model_1')"
   ]
  },
  {
   "cell_type": "code",
   "execution_count": null,
   "metadata": {},
   "outputs": [],
   "source": [
    "sample(model_name=\"gpt-4o\")"
   ]
  },
  {
   "cell_type": "code",
   "execution_count": null,
   "metadata": {},
   "outputs": [],
   "source": [
    "# 개발\n",
    "# model_name\n",
    "# temperature\n",
    "#"
   ]
  },
  {
   "cell_type": "code",
   "execution_count": null,
   "metadata": {},
   "outputs": [],
   "source": []
  },
  {
   "cell_type": "code",
   "execution_count": null,
   "metadata": {},
   "outputs": [],
   "source": [
    "# 함수 (기본 매개변수)"
   ]
  }
 ],
 "metadata": {
  "kernelspec": {
   "display_name": "langchain-kr-l9EEwGNq-py3.11",
   "language": "python",
   "name": "python3"
  },
  "language_info": {
   "codemirror_mode": {
    "name": "ipython",
    "version": 3
   },
   "file_extension": ".py",
   "mimetype": "text/x-python",
   "name": "python",
   "nbconvert_exporter": "python",
   "pygments_lexer": "ipython3",
   "version": "3.11.9"
  }
 },
 "nbformat": 4,
 "nbformat_minor": 2
}
